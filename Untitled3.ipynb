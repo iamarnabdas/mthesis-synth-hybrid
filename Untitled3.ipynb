{
 "cells": [
  {
   "cell_type": "code",
   "execution_count": 1,
   "id": "16ea41e2",
   "metadata": {},
   "outputs": [],
   "source": [
    "#testing hybrid for normal dataset\n",
    "\n",
    "import pandas as pd\n",
    "import numpy as np\n",
    "import hybrid"
   ]
  },
  {
   "cell_type": "code",
   "execution_count": 8,
   "id": "2e9eed0e",
   "metadata": {},
   "outputs": [],
   "source": [
    "import pandas as pd\n",
    "\n",
    "# Dataset 1\n",
    "data1 = {\n",
    "    'col a': [245, 65, 122, 12, 111],\n",
    "    'col b': [5, 125, 6, 666, 9],\n",
    "    'col c': [12, 11, 55, 22, 25],\n",
    "    'col d': [3.546, 2.355, 1.222, 3.554, 3.255]\n",
    "}\n",
    "df1 = pd.DataFrame(data1)\n",
    "\n",
    "# Dataset 2\n",
    "data2 = {\n",
    "    'col a': [12, 242, 63, 100],\n",
    "    'col b': [65, 3, 11, 11],\n",
    "    'col c': [21, 11, 9, 25],\n",
    "    'col d': [13.656, 2.564, 2.985, 3.559]\n",
    "}\n",
    "df2 = pd.DataFrame(data2)\n",
    "\n",
    "# Dataset 3\n",
    "data3 = {\n",
    "    'col a': [242, 11, 63, 1],\n",
    "    'col b': [235, 3, 121, 11],\n",
    "    'col c': [11, 11, 9, 25],\n",
    "    'col d': [3.996, 2.564, 2.985, 3.559]\n",
    "}\n",
    "df3 = pd.DataFrame(data3)\n"
   ]
  },
  {
   "cell_type": "code",
   "execution_count": 9,
   "id": "1f2d3cb0",
   "metadata": {},
   "outputs": [],
   "source": [
    "df1.to_csv('df1.csv',index=False)"
   ]
  },
  {
   "cell_type": "code",
   "execution_count": 10,
   "id": "05f6d5cf",
   "metadata": {},
   "outputs": [],
   "source": [
    "from sdv.metadata import SingleTableMetadata #this is a function that creates metadata, tries to capture the datatypes \n",
    "                                              \n",
    "metadata = SingleTableMetadata()#creating an empty data table\n",
    "metadata.detect_from_csv('df1.csv')"
   ]
  },
  {
   "cell_type": "code",
   "execution_count": 11,
   "id": "a34a484d",
   "metadata": {},
   "outputs": [
    {
     "name": "stdout",
     "output_type": "stream",
     "text": [
      "First dataset quality score:\n"
     ]
    },
    {
     "name": "stderr",
     "output_type": "stream",
     "text": [
      "Creating report: 100%|███████████████████████████████████████████████████████████████████| 4/4 [00:00<00:00, 45.28it/s]\n"
     ]
    },
    {
     "name": "stdout",
     "output_type": "stream",
     "text": [
      "\n",
      "Overall Quality Score: 65.56%\n",
      "\n",
      "Properties:\n",
      "Column Shapes: 60.0%\n",
      "Column Pair Trends: 71.13%\n",
      "Second dataset quality score:\n"
     ]
    },
    {
     "name": "stderr",
     "output_type": "stream",
     "text": [
      "Creating report: 100%|███████████████████████████████████████████████████████████████████| 4/4 [00:00<00:00, 54.06it/s]\n"
     ]
    },
    {
     "name": "stdout",
     "output_type": "stream",
     "text": [
      "\n",
      "Overall Quality Score: 66.72%\n",
      "\n",
      "Properties:\n",
      "Column Shapes: 56.25%\n",
      "Column Pair Trends: 77.2%\n",
      "--------------First dataset report:-------------\n",
      "  Column        Metric  Quality Score\n",
      "0  col a  KSComplement           0.65\n",
      "1  col b  KSComplement           0.60\n",
      "2  col c  KSComplement           0.65\n",
      "3  col d  KSComplement           0.50\n",
      "--------------Second dataset report:------------\n",
      "  Column        Metric  Quality Score\n",
      "0  col a  KSComplement           0.65\n",
      "1  col b  KSComplement           0.65\n",
      "2  col c  KSComplement           0.45\n",
      "3  col d  KSComplement           0.50\n",
      "------------- Combined Quality score------------\n",
      "  Column        Metric  Quality Score_1  Quality Score_2\n",
      "0  col a  KSComplement             0.65             0.65\n",
      "1  col b  KSComplement             0.60             0.65\n",
      "2  col c  KSComplement             0.65             0.45\n",
      "3  col d  KSComplement             0.50             0.50\n",
      "Name of columns for which transformation have  been used:\n",
      "['col a', 'col c', 'col d']\n",
      "{\n",
      "    \"sdtypes\": {\n",
      "        \"col a\": \"numerical\",\n",
      "        \"col b\": \"numerical\",\n",
      "        \"col c\": \"numerical\",\n",
      "        \"col d\": \"numerical\"\n",
      "    },\n",
      "    \"transformers\": {\n",
      "        \"col a\": None,\n",
      "        \"col b\": None,\n",
      "        \"col c\": None,\n",
      "        \"col d\": None\n",
      "    }\n",
      "}\n",
      "Details of transformers used for all variables:\n",
      "{\n",
      "    \"sdtypes\": {\n",
      "        \"col a\": \"numerical\",\n",
      "        \"col b\": \"numerical\",\n",
      "        \"col c\": \"numerical\",\n",
      "        \"col d\": \"numerical\"\n",
      "    },\n",
      "    \"transformers\": {\n",
      "        \"col a\": None,\n",
      "        \"col b\": None,\n",
      "        \"col c\": None,\n",
      "        \"col d\": None\n",
      "    }\n",
      "}\n",
      "Hybrid quality score\n"
     ]
    },
    {
     "name": "stderr",
     "output_type": "stream",
     "text": [
      "Creating report: 100%|███████████████████████████████████████████████████████████████████| 4/4 [00:00<00:00, 54.54it/s]"
     ]
    },
    {
     "name": "stdout",
     "output_type": "stream",
     "text": [
      "\n",
      "Overall Quality Score: 66.47%\n",
      "\n",
      "Properties:\n",
      "Column Shapes: 61.25%\n",
      "Column Pair Trends: 71.7%\n",
      "Hybrid dataset report:\n",
      "  Column        Metric  Quality Score\n",
      "0  col a  KSComplement           0.65\n",
      "1  col b  KSComplement           0.65\n",
      "2  col c  KSComplement           0.65\n",
      "3  col d  KSComplement           0.50\n",
      " Combined Quality score\n",
      "  Column        Metric  Quality Score_1  Quality Score_2  Quality Score_3\n",
      "0  col a  KSComplement             0.65             0.65             0.65\n",
      "1  col b  KSComplement             0.60             0.65             0.65\n",
      "2  col c  KSComplement             0.65             0.45             0.65\n",
      "3  col d  KSComplement             0.50             0.50             0.50\n"
     ]
    },
    {
     "name": "stderr",
     "output_type": "stream",
     "text": [
      "\n"
     ]
    }
   ],
   "source": [
    "r1=hybrid.hybrid(df1,df2,df3,metadata)"
   ]
  },
  {
   "cell_type": "code",
   "execution_count": 12,
   "id": "cc177dba",
   "metadata": {},
   "outputs": [
    {
     "data": {
      "text/html": [
       "<div>\n",
       "<style scoped>\n",
       "    .dataframe tbody tr th:only-of-type {\n",
       "        vertical-align: middle;\n",
       "    }\n",
       "\n",
       "    .dataframe tbody tr th {\n",
       "        vertical-align: top;\n",
       "    }\n",
       "\n",
       "    .dataframe thead th {\n",
       "        text-align: right;\n",
       "    }\n",
       "</style>\n",
       "<table border=\"1\" class=\"dataframe\">\n",
       "  <thead>\n",
       "    <tr style=\"text-align: right;\">\n",
       "      <th></th>\n",
       "      <th>col a</th>\n",
       "      <th>col b</th>\n",
       "      <th>col c</th>\n",
       "      <th>col d</th>\n",
       "    </tr>\n",
       "  </thead>\n",
       "  <tbody>\n",
       "    <tr>\n",
       "      <th>2</th>\n",
       "      <td>63</td>\n",
       "      <td>121</td>\n",
       "      <td>9</td>\n",
       "      <td>2.985</td>\n",
       "    </tr>\n",
       "    <tr>\n",
       "      <th>0</th>\n",
       "      <td>11</td>\n",
       "      <td>235</td>\n",
       "      <td>21</td>\n",
       "      <td>3.996</td>\n",
       "    </tr>\n",
       "    <tr>\n",
       "      <th>1</th>\n",
       "      <td>242</td>\n",
       "      <td>3</td>\n",
       "      <td>11</td>\n",
       "      <td>2.564</td>\n",
       "    </tr>\n",
       "    <tr>\n",
       "      <th>3</th>\n",
       "      <td>100</td>\n",
       "      <td>11</td>\n",
       "      <td>25</td>\n",
       "      <td>3.559</td>\n",
       "    </tr>\n",
       "  </tbody>\n",
       "</table>\n",
       "</div>"
      ],
      "text/plain": [
       "   col a  col b  col c  col d\n",
       "2     63    121      9  2.985\n",
       "0     11    235     21  3.996\n",
       "1    242      3     11  2.564\n",
       "3    100     11     25  3.559"
      ]
     },
     "execution_count": 12,
     "metadata": {},
     "output_type": "execute_result"
    }
   ],
   "source": [
    "r1"
   ]
  },
  {
   "cell_type": "code",
   "execution_count": 13,
   "id": "455b2a79",
   "metadata": {},
   "outputs": [
    {
     "data": {
      "text/html": [
       "<div>\n",
       "<style scoped>\n",
       "    .dataframe tbody tr th:only-of-type {\n",
       "        vertical-align: middle;\n",
       "    }\n",
       "\n",
       "    .dataframe tbody tr th {\n",
       "        vertical-align: top;\n",
       "    }\n",
       "\n",
       "    .dataframe thead th {\n",
       "        text-align: right;\n",
       "    }\n",
       "</style>\n",
       "<table border=\"1\" class=\"dataframe\">\n",
       "  <thead>\n",
       "    <tr style=\"text-align: right;\">\n",
       "      <th></th>\n",
       "      <th>col a</th>\n",
       "      <th>col b</th>\n",
       "      <th>col c</th>\n",
       "      <th>col d</th>\n",
       "    </tr>\n",
       "  </thead>\n",
       "  <tbody>\n",
       "    <tr>\n",
       "      <th>0</th>\n",
       "      <td>12</td>\n",
       "      <td>65</td>\n",
       "      <td>21</td>\n",
       "      <td>13.656</td>\n",
       "    </tr>\n",
       "    <tr>\n",
       "      <th>1</th>\n",
       "      <td>242</td>\n",
       "      <td>3</td>\n",
       "      <td>11</td>\n",
       "      <td>2.564</td>\n",
       "    </tr>\n",
       "    <tr>\n",
       "      <th>2</th>\n",
       "      <td>63</td>\n",
       "      <td>11</td>\n",
       "      <td>9</td>\n",
       "      <td>2.985</td>\n",
       "    </tr>\n",
       "    <tr>\n",
       "      <th>3</th>\n",
       "      <td>100</td>\n",
       "      <td>11</td>\n",
       "      <td>25</td>\n",
       "      <td>3.559</td>\n",
       "    </tr>\n",
       "  </tbody>\n",
       "</table>\n",
       "</div>"
      ],
      "text/plain": [
       "   col a  col b  col c   col d\n",
       "0     12     65     21  13.656\n",
       "1    242      3     11   2.564\n",
       "2     63     11      9   2.985\n",
       "3    100     11     25   3.559"
      ]
     },
     "execution_count": 13,
     "metadata": {},
     "output_type": "execute_result"
    }
   ],
   "source": [
    "df2"
   ]
  },
  {
   "cell_type": "code",
   "execution_count": 14,
   "id": "703cbfe2",
   "metadata": {},
   "outputs": [
    {
     "data": {
      "text/html": [
       "<div>\n",
       "<style scoped>\n",
       "    .dataframe tbody tr th:only-of-type {\n",
       "        vertical-align: middle;\n",
       "    }\n",
       "\n",
       "    .dataframe tbody tr th {\n",
       "        vertical-align: top;\n",
       "    }\n",
       "\n",
       "    .dataframe thead th {\n",
       "        text-align: right;\n",
       "    }\n",
       "</style>\n",
       "<table border=\"1\" class=\"dataframe\">\n",
       "  <thead>\n",
       "    <tr style=\"text-align: right;\">\n",
       "      <th></th>\n",
       "      <th>col a</th>\n",
       "      <th>col b</th>\n",
       "      <th>col c</th>\n",
       "      <th>col d</th>\n",
       "    </tr>\n",
       "  </thead>\n",
       "  <tbody>\n",
       "    <tr>\n",
       "      <th>0</th>\n",
       "      <td>11</td>\n",
       "      <td>235</td>\n",
       "      <td>11</td>\n",
       "      <td>3.996</td>\n",
       "    </tr>\n",
       "    <tr>\n",
       "      <th>1</th>\n",
       "      <td>242</td>\n",
       "      <td>3</td>\n",
       "      <td>11</td>\n",
       "      <td>2.564</td>\n",
       "    </tr>\n",
       "    <tr>\n",
       "      <th>2</th>\n",
       "      <td>63</td>\n",
       "      <td>121</td>\n",
       "      <td>9</td>\n",
       "      <td>2.985</td>\n",
       "    </tr>\n",
       "    <tr>\n",
       "      <th>3</th>\n",
       "      <td>100</td>\n",
       "      <td>11</td>\n",
       "      <td>25</td>\n",
       "      <td>3.559</td>\n",
       "    </tr>\n",
       "  </tbody>\n",
       "</table>\n",
       "</div>"
      ],
      "text/plain": [
       "   col a  col b  col c  col d\n",
       "0     11    235     11  3.996\n",
       "1    242      3     11  2.564\n",
       "2     63    121      9  2.985\n",
       "3    100     11     25  3.559"
      ]
     },
     "execution_count": 14,
     "metadata": {},
     "output_type": "execute_result"
    }
   ],
   "source": [
    "df3"
   ]
  },
  {
   "cell_type": "code",
   "execution_count": null,
   "id": "c25f1222",
   "metadata": {},
   "outputs": [],
   "source": []
  }
 ],
 "metadata": {
  "kernelspec": {
   "display_name": "Python 3 (ipykernel)",
   "language": "python",
   "name": "python3"
  },
  "language_info": {
   "codemirror_mode": {
    "name": "ipython",
    "version": 3
   },
   "file_extension": ".py",
   "mimetype": "text/x-python",
   "name": "python",
   "nbconvert_exporter": "python",
   "pygments_lexer": "ipython3",
   "version": "3.10.10"
  }
 },
 "nbformat": 4,
 "nbformat_minor": 5
}
