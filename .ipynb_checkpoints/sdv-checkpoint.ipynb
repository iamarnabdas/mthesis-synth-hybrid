{
 "cells": [
  {
   "cell_type": "code",
   "execution_count": 1,
   "id": "1399edc1",
   "metadata": {},
   "outputs": [],
   "source": [
    "import numpy as np\n",
    "import pandas as pd\n",
    "import sdv\n",
    "import seaborn as sns\n",
    "import matplotlib.pyplot as plt"
   ]
  },
  {
   "cell_type": "code",
   "execution_count": null,
   "id": "bfe8a634",
   "metadata": {},
   "outputs": [],
   "source": []
  },
  {
   "cell_type": "code",
   "execution_count": 2,
   "id": "915337f7",
   "metadata": {},
   "outputs": [
    {
     "data": {
      "text/html": [
       "<div>\n",
       "<style scoped>\n",
       "    .dataframe tbody tr th:only-of-type {\n",
       "        vertical-align: middle;\n",
       "    }\n",
       "\n",
       "    .dataframe tbody tr th {\n",
       "        vertical-align: top;\n",
       "    }\n",
       "\n",
       "    .dataframe thead th {\n",
       "        text-align: right;\n",
       "    }\n",
       "</style>\n",
       "<table border=\"1\" class=\"dataframe\">\n",
       "  <thead>\n",
       "    <tr style=\"text-align: right;\">\n",
       "      <th></th>\n",
       "      <th>ID</th>\n",
       "      <th>LIMIT_BAL</th>\n",
       "      <th>SEX</th>\n",
       "      <th>EDUCATION</th>\n",
       "      <th>MARRIAGE</th>\n",
       "      <th>AGE</th>\n",
       "      <th>PAY_0</th>\n",
       "      <th>PAY_2</th>\n",
       "      <th>PAY_3</th>\n",
       "      <th>PAY_4</th>\n",
       "      <th>...</th>\n",
       "      <th>BILL_AMT4</th>\n",
       "      <th>BILL_AMT5</th>\n",
       "      <th>BILL_AMT6</th>\n",
       "      <th>PAY_AMT1</th>\n",
       "      <th>PAY_AMT2</th>\n",
       "      <th>PAY_AMT3</th>\n",
       "      <th>PAY_AMT4</th>\n",
       "      <th>PAY_AMT5</th>\n",
       "      <th>PAY_AMT6</th>\n",
       "      <th>default.payment.next.month</th>\n",
       "    </tr>\n",
       "  </thead>\n",
       "  <tbody>\n",
       "    <tr>\n",
       "      <th>0</th>\n",
       "      <td>1</td>\n",
       "      <td>20000.0</td>\n",
       "      <td>2</td>\n",
       "      <td>2</td>\n",
       "      <td>1</td>\n",
       "      <td>24</td>\n",
       "      <td>2</td>\n",
       "      <td>2</td>\n",
       "      <td>-1</td>\n",
       "      <td>-1</td>\n",
       "      <td>...</td>\n",
       "      <td>0.0</td>\n",
       "      <td>0.0</td>\n",
       "      <td>0.0</td>\n",
       "      <td>0.0</td>\n",
       "      <td>689.0</td>\n",
       "      <td>0.0</td>\n",
       "      <td>0.0</td>\n",
       "      <td>0.0</td>\n",
       "      <td>0.0</td>\n",
       "      <td>1</td>\n",
       "    </tr>\n",
       "    <tr>\n",
       "      <th>1</th>\n",
       "      <td>2</td>\n",
       "      <td>120000.0</td>\n",
       "      <td>2</td>\n",
       "      <td>2</td>\n",
       "      <td>2</td>\n",
       "      <td>26</td>\n",
       "      <td>-1</td>\n",
       "      <td>2</td>\n",
       "      <td>0</td>\n",
       "      <td>0</td>\n",
       "      <td>...</td>\n",
       "      <td>3272.0</td>\n",
       "      <td>3455.0</td>\n",
       "      <td>3261.0</td>\n",
       "      <td>0.0</td>\n",
       "      <td>1000.0</td>\n",
       "      <td>1000.0</td>\n",
       "      <td>1000.0</td>\n",
       "      <td>0.0</td>\n",
       "      <td>2000.0</td>\n",
       "      <td>1</td>\n",
       "    </tr>\n",
       "    <tr>\n",
       "      <th>2</th>\n",
       "      <td>3</td>\n",
       "      <td>90000.0</td>\n",
       "      <td>2</td>\n",
       "      <td>2</td>\n",
       "      <td>2</td>\n",
       "      <td>34</td>\n",
       "      <td>0</td>\n",
       "      <td>0</td>\n",
       "      <td>0</td>\n",
       "      <td>0</td>\n",
       "      <td>...</td>\n",
       "      <td>14331.0</td>\n",
       "      <td>14948.0</td>\n",
       "      <td>15549.0</td>\n",
       "      <td>1518.0</td>\n",
       "      <td>1500.0</td>\n",
       "      <td>1000.0</td>\n",
       "      <td>1000.0</td>\n",
       "      <td>1000.0</td>\n",
       "      <td>5000.0</td>\n",
       "      <td>0</td>\n",
       "    </tr>\n",
       "    <tr>\n",
       "      <th>3</th>\n",
       "      <td>4</td>\n",
       "      <td>50000.0</td>\n",
       "      <td>2</td>\n",
       "      <td>2</td>\n",
       "      <td>1</td>\n",
       "      <td>37</td>\n",
       "      <td>0</td>\n",
       "      <td>0</td>\n",
       "      <td>0</td>\n",
       "      <td>0</td>\n",
       "      <td>...</td>\n",
       "      <td>28314.0</td>\n",
       "      <td>28959.0</td>\n",
       "      <td>29547.0</td>\n",
       "      <td>2000.0</td>\n",
       "      <td>2019.0</td>\n",
       "      <td>1200.0</td>\n",
       "      <td>1100.0</td>\n",
       "      <td>1069.0</td>\n",
       "      <td>1000.0</td>\n",
       "      <td>0</td>\n",
       "    </tr>\n",
       "    <tr>\n",
       "      <th>4</th>\n",
       "      <td>5</td>\n",
       "      <td>50000.0</td>\n",
       "      <td>1</td>\n",
       "      <td>2</td>\n",
       "      <td>1</td>\n",
       "      <td>57</td>\n",
       "      <td>-1</td>\n",
       "      <td>0</td>\n",
       "      <td>-1</td>\n",
       "      <td>0</td>\n",
       "      <td>...</td>\n",
       "      <td>20940.0</td>\n",
       "      <td>19146.0</td>\n",
       "      <td>19131.0</td>\n",
       "      <td>2000.0</td>\n",
       "      <td>36681.0</td>\n",
       "      <td>10000.0</td>\n",
       "      <td>9000.0</td>\n",
       "      <td>689.0</td>\n",
       "      <td>679.0</td>\n",
       "      <td>0</td>\n",
       "    </tr>\n",
       "  </tbody>\n",
       "</table>\n",
       "<p>5 rows × 25 columns</p>\n",
       "</div>"
      ],
      "text/plain": [
       "   ID  LIMIT_BAL  SEX  EDUCATION  MARRIAGE  AGE  PAY_0  PAY_2  PAY_3  PAY_4  \\\n",
       "0   1    20000.0    2          2         1   24      2      2     -1     -1   \n",
       "1   2   120000.0    2          2         2   26     -1      2      0      0   \n",
       "2   3    90000.0    2          2         2   34      0      0      0      0   \n",
       "3   4    50000.0    2          2         1   37      0      0      0      0   \n",
       "4   5    50000.0    1          2         1   57     -1      0     -1      0   \n",
       "\n",
       "   ...  BILL_AMT4  BILL_AMT5  BILL_AMT6  PAY_AMT1  PAY_AMT2  PAY_AMT3  \\\n",
       "0  ...        0.0        0.0        0.0       0.0     689.0       0.0   \n",
       "1  ...     3272.0     3455.0     3261.0       0.0    1000.0    1000.0   \n",
       "2  ...    14331.0    14948.0    15549.0    1518.0    1500.0    1000.0   \n",
       "3  ...    28314.0    28959.0    29547.0    2000.0    2019.0    1200.0   \n",
       "4  ...    20940.0    19146.0    19131.0    2000.0   36681.0   10000.0   \n",
       "\n",
       "   PAY_AMT4  PAY_AMT5  PAY_AMT6  default.payment.next.month  \n",
       "0       0.0       0.0       0.0                           1  \n",
       "1    1000.0       0.0    2000.0                           1  \n",
       "2    1000.0    1000.0    5000.0                           0  \n",
       "3    1100.0    1069.0    1000.0                           0  \n",
       "4    9000.0     689.0     679.0                           0  \n",
       "\n",
       "[5 rows x 25 columns]"
      ]
     },
     "execution_count": 2,
     "metadata": {},
     "output_type": "execute_result"
    }
   ],
   "source": [
    "real_data=pd.read_csv('UCI_Credit_Card.csv')\n",
    "real_data.head()"
   ]
  },
  {
   "cell_type": "code",
   "execution_count": 3,
   "id": "371b9c1a",
   "metadata": {},
   "outputs": [
    {
     "name": "stdout",
     "output_type": "stream",
     "text": [
      "<class 'pandas.core.frame.DataFrame'>\n",
      "RangeIndex: 30000 entries, 0 to 29999\n",
      "Data columns (total 25 columns):\n",
      " #   Column                      Non-Null Count  Dtype  \n",
      "---  ------                      --------------  -----  \n",
      " 0   ID                          30000 non-null  int64  \n",
      " 1   LIMIT_BAL                   30000 non-null  float64\n",
      " 2   SEX                         30000 non-null  int64  \n",
      " 3   EDUCATION                   30000 non-null  int64  \n",
      " 4   MARRIAGE                    30000 non-null  int64  \n",
      " 5   AGE                         30000 non-null  int64  \n",
      " 6   PAY_0                       30000 non-null  int64  \n",
      " 7   PAY_2                       30000 non-null  int64  \n",
      " 8   PAY_3                       30000 non-null  int64  \n",
      " 9   PAY_4                       30000 non-null  int64  \n",
      " 10  PAY_5                       30000 non-null  int64  \n",
      " 11  PAY_6                       30000 non-null  int64  \n",
      " 12  BILL_AMT1                   30000 non-null  float64\n",
      " 13  BILL_AMT2                   30000 non-null  float64\n",
      " 14  BILL_AMT3                   30000 non-null  float64\n",
      " 15  BILL_AMT4                   30000 non-null  float64\n",
      " 16  BILL_AMT5                   30000 non-null  float64\n",
      " 17  BILL_AMT6                   30000 non-null  float64\n",
      " 18  PAY_AMT1                    30000 non-null  float64\n",
      " 19  PAY_AMT2                    30000 non-null  float64\n",
      " 20  PAY_AMT3                    30000 non-null  float64\n",
      " 21  PAY_AMT4                    30000 non-null  float64\n",
      " 22  PAY_AMT5                    30000 non-null  float64\n",
      " 23  PAY_AMT6                    30000 non-null  float64\n",
      " 24  default.payment.next.month  30000 non-null  int64  \n",
      "dtypes: float64(13), int64(12)\n",
      "memory usage: 5.7 MB\n"
     ]
    }
   ],
   "source": [
    "real_data.info()"
   ]
  },
  {
   "cell_type": "markdown",
   "id": "b180db9c",
   "metadata": {},
   "source": [
    "2nd ,3rd ,4th ,24th column must be categorical variables. so we have to change their data type."
   ]
  },
  {
   "cell_type": "code",
   "execution_count": 4,
   "id": "4cba0561",
   "metadata": {},
   "outputs": [],
   "source": [
    "real_data[['SEX','EDUCATION','MARRIAGE','default.payment.next.month']]=real_data[['SEX','EDUCATION','MARRIAGE','default.payment.next.month']].astype(str)"
   ]
  },
  {
   "cell_type": "code",
   "execution_count": 5,
   "id": "65735b89",
   "metadata": {},
   "outputs": [
    {
     "name": "stdout",
     "output_type": "stream",
     "text": [
      "<class 'pandas.core.frame.DataFrame'>\n",
      "RangeIndex: 30000 entries, 0 to 29999\n",
      "Data columns (total 25 columns):\n",
      " #   Column                      Non-Null Count  Dtype  \n",
      "---  ------                      --------------  -----  \n",
      " 0   ID                          30000 non-null  int64  \n",
      " 1   LIMIT_BAL                   30000 non-null  float64\n",
      " 2   SEX                         30000 non-null  object \n",
      " 3   EDUCATION                   30000 non-null  object \n",
      " 4   MARRIAGE                    30000 non-null  object \n",
      " 5   AGE                         30000 non-null  int64  \n",
      " 6   PAY_0                       30000 non-null  int64  \n",
      " 7   PAY_2                       30000 non-null  int64  \n",
      " 8   PAY_3                       30000 non-null  int64  \n",
      " 9   PAY_4                       30000 non-null  int64  \n",
      " 10  PAY_5                       30000 non-null  int64  \n",
      " 11  PAY_6                       30000 non-null  int64  \n",
      " 12  BILL_AMT1                   30000 non-null  float64\n",
      " 13  BILL_AMT2                   30000 non-null  float64\n",
      " 14  BILL_AMT3                   30000 non-null  float64\n",
      " 15  BILL_AMT4                   30000 non-null  float64\n",
      " 16  BILL_AMT5                   30000 non-null  float64\n",
      " 17  BILL_AMT6                   30000 non-null  float64\n",
      " 18  PAY_AMT1                    30000 non-null  float64\n",
      " 19  PAY_AMT2                    30000 non-null  float64\n",
      " 20  PAY_AMT3                    30000 non-null  float64\n",
      " 21  PAY_AMT4                    30000 non-null  float64\n",
      " 22  PAY_AMT5                    30000 non-null  float64\n",
      " 23  PAY_AMT6                    30000 non-null  float64\n",
      " 24  default.payment.next.month  30000 non-null  object \n",
      "dtypes: float64(13), int64(8), object(4)\n",
      "memory usage: 5.7+ MB\n"
     ]
    }
   ],
   "source": [
    "real_data.info()"
   ]
  },
  {
   "cell_type": "code",
   "execution_count": 6,
   "id": "afce2175",
   "metadata": {},
   "outputs": [
    {
     "ename": "ModuleNotFoundError",
     "evalue": "No module named 'sdv.tabular'",
     "output_type": "error",
     "traceback": [
      "\u001b[0;31m---------------------------------------------------------------------------\u001b[0m",
      "\u001b[0;31mModuleNotFoundError\u001b[0m                       Traceback (most recent call last)",
      "Cell \u001b[0;32mIn[6], line 1\u001b[0m\n\u001b[0;32m----> 1\u001b[0m \u001b[38;5;28;01mfrom\u001b[39;00m \u001b[38;5;21;01msdv\u001b[39;00m\u001b[38;5;21;01m.\u001b[39;00m\u001b[38;5;21;01mtabular\u001b[39;00m \u001b[38;5;28;01mimport\u001b[39;00m GaussianCopula\n\u001b[1;32m      2\u001b[0m model \u001b[38;5;241m=\u001b[39m GaussianCopula()\n\u001b[1;32m      3\u001b[0m model\u001b[38;5;241m.\u001b[39mfit(real_data)\n",
      "\u001b[0;31mModuleNotFoundError\u001b[0m: No module named 'sdv.tabular'"
     ]
    }
   ],
   "source": [
    "from sdv.tabular import GaussianCopula\n",
    "model = GaussianCopula()\n",
    "model.fit(real_data)"
   ]
  },
  {
   "cell_type": "code",
   "execution_count": 7,
   "id": "b3c04d10",
   "metadata": {},
   "outputs": [
    {
     "ename": "NameError",
     "evalue": "name 'model' is not defined",
     "output_type": "error",
     "traceback": [
      "\u001b[0;31m---------------------------------------------------------------------------\u001b[0m",
      "\u001b[0;31mNameError\u001b[0m                                 Traceback (most recent call last)",
      "Cell \u001b[0;32mIn[7], line 1\u001b[0m\n\u001b[0;32m----> 1\u001b[0m new_data \u001b[38;5;241m=\u001b[39m \u001b[43mmodel\u001b[49m\u001b[38;5;241m.\u001b[39msample(num_rows\u001b[38;5;241m=\u001b[39m\u001b[38;5;241m30000\u001b[39m)\n",
      "\u001b[0;31mNameError\u001b[0m: name 'model' is not defined"
     ]
    }
   ],
   "source": [
    "new_data = model.sample(num_rows=30000)"
   ]
  },
  {
   "cell_type": "code",
   "execution_count": null,
   "id": "c7d8db47",
   "metadata": {},
   "outputs": [],
   "source": [
    "new_data.head()"
   ]
  },
  {
   "cell_type": "code",
   "execution_count": null,
   "id": "657aa4e9",
   "metadata": {},
   "outputs": [],
   "source": [
    "new_data.describe(include='all')"
   ]
  },
  {
   "cell_type": "code",
   "execution_count": null,
   "id": "5cffd260",
   "metadata": {},
   "outputs": [],
   "source": [
    "real_data.describe(include='all')"
   ]
  },
  {
   "cell_type": "markdown",
   "id": "7ad4daa3",
   "metadata": {},
   "source": [
    "all values in synthesised data are in the range of previously defined datasets"
   ]
  },
  {
   "cell_type": "code",
   "execution_count": null,
   "id": "c60becef",
   "metadata": {},
   "outputs": [],
   "source": [
    "new_data[new_data.ID == new_data.ID.value_counts().index[0]]"
   ]
  },
  {
   "cell_type": "code",
   "execution_count": null,
   "id": "0252d994",
   "metadata": {},
   "outputs": [],
   "source": [
    "new_data.ID.value_counts().max()"
   ]
  },
  {
   "cell_type": "code",
   "execution_count": null,
   "id": "a1da827f",
   "metadata": {},
   "outputs": [],
   "source": [
    "model = GaussianCopula(\n",
    "    primary_key='ID'\n",
    ")\n",
    "model.fit(real_data)\n",
    "new_data = model.sample(30000)\n",
    "new_data.head()"
   ]
  },
  {
   "cell_type": "code",
   "execution_count": null,
   "id": "2966f95f",
   "metadata": {},
   "outputs": [],
   "source": [
    "new_data.describe(include='all')"
   ]
  },
  {
   "cell_type": "code",
   "execution_count": null,
   "id": "ac4e9045",
   "metadata": {},
   "outputs": [],
   "source": [
    "from sdv.evaluation import evaluate\n",
    "evaluate(new_data, real_data, aggregate=False)"
   ]
  },
  {
   "cell_type": "code",
   "execution_count": null,
   "id": "41a083f9",
   "metadata": {},
   "outputs": [],
   "source": [
    "corr= real_data.corr()\n",
    "sns.heatmap(corr)"
   ]
  },
  {
   "cell_type": "code",
   "execution_count": null,
   "id": "220ee1d9",
   "metadata": {},
   "outputs": [],
   "source": [
    "corr2= new_data.corr()\n",
    "sns.heatmap(corr2)"
   ]
  },
  {
   "cell_type": "code",
   "execution_count": null,
   "id": "842b50ac",
   "metadata": {},
   "outputs": [],
   "source": [
    "dif=1-abs(corr-corr2)\n",
    "sns.heatmap(dif)"
   ]
  },
  {
   "cell_type": "code",
   "execution_count": null,
   "id": "1d076a44",
   "metadata": {},
   "outputs": [],
   "source": [
    "evaluate(new_data, real_data,metrics=['LogisticDetection'] )"
   ]
  },
  {
   "cell_type": "code",
   "execution_count": null,
   "id": "930d5ad1",
   "metadata": {},
   "outputs": [],
   "source": [
    "sns.set(style=\"darkgrid\")\n",
    "\n",
    "\n",
    "fig, axs = plt.subplots(3, 2, figsize=(10, 10))\n",
    "\n",
    "sns.histplot(data=real_data, x=\"PAY_AMT1\", kde=True, color=\"skyblue\", ax=axs[0, 0])\n",
    "sns.histplot(data=new_data, x=\"PAY_AMT1\", kde=True, color=\"olive\", ax=axs[0, 1])\n",
    "sns.histplot(data=real_data, x=\"PAY_0\", kde=True, color=\"gold\", ax=axs[1, 0])\n",
    "sns.histplot(data=new_data, x=\"PAY_0\", kde=True, color=\"teal\", ax=axs[1, 1])\n",
    "\n",
    "sns.histplot(data=real_data, x=\"PAY_AMT5\", kde=True, color=\"skyblue\", ax=axs[2, 0])\n",
    "sns.histplot(data=new_data, x=\"PAY_AMT5\", kde=True, color=\"olive\", ax=axs[2, 1])\n",
    "\n",
    "plt.show()\n"
   ]
  },
  {
   "cell_type": "code",
   "execution_count": null,
   "id": "f45b7157",
   "metadata": {},
   "outputs": [],
   "source": [
    "sns.histplot(data=real_data,x='LIMIT_BAL')"
   ]
  },
  {
   "cell_type": "code",
   "execution_count": null,
   "id": "533af3ae",
   "metadata": {},
   "outputs": [],
   "source": [
    "sns.histplot(data=new_data,x='LIMIT_BAL')"
   ]
  },
  {
   "cell_type": "markdown",
   "id": "1563dde8",
   "metadata": {},
   "source": [
    "Now I will store the new synthesized data ,generated from the real dataset, into an excel file."
   ]
  },
  {
   "cell_type": "markdown",
   "id": "5e299e57",
   "metadata": {},
   "source": [
    "sd='new_data.xlsx'\n",
    "new_data.to_excel(sd)"
   ]
  },
  {
   "cell_type": "markdown",
   "id": "1602d077",
   "metadata": {},
   "source": [
    "In many scenarios it will be convenient to generate synthetic versions of  data directly in systems that do not have access to the original data source.So I will make an file that will contain the parameters of the real data set and we can share that file and using SDV  we can sample date from it."
   ]
  },
  {
   "cell_type": "markdown",
   "id": "6efbedde",
   "metadata": {},
   "source": [
    "model.save('my_model.pkl')"
   ]
  },
  {
   "cell_type": "markdown",
   "id": "3f323a99",
   "metadata": {},
   "source": [
    "loaded = GaussianCopula.load('my_model.pkl')\n",
    "new_data2 = loaded.sample(200)"
   ]
  },
  {
   "cell_type": "markdown",
   "id": "6b85b422",
   "metadata": {},
   "source": [
    "sd2='new_data2.xlsx'\n",
    "new_data2.to_excel(sd2)"
   ]
  },
  {
   "cell_type": "markdown",
   "id": "eae10d86",
   "metadata": {},
   "source": [
    "{\n",
    "    \"primary_key\": \"ID\",\n",
    "    \"fields\": {\n",
    "        \"ID\": {\n",
    "            \"type\": \"id\",\n",
    "            \"subtype\": \"integer\",\n",
    "            \"regex\": \"U_[0-9]{3}\"\n",
    "        },\n",
    "        \"age\": {\n",
    "            \"type\": \"numerical\", \n",
    "            \"subtype\": \"integer\"\n",
    "        },\n",
    "        \"address\": {\n",
    "            \"type\": \"categorical\",\n",
    "            \"pii\": True\n",
    "        }, \n",
    "        \"tier\": {\n",
    "            \"type\": \"categorical\"\n",
    "        },\n",
    "        \"active\": {\n",
    "            \"type\": \"boolean\"\n",
    "        },\n",
    "        \"paid_amt\": {\n",
    "            \"type\": \"numerical\",\n",
    "            \"subtype\": \"float\"\n",
    "        },\n",
    "        \"renew_date\": {\n",
    "            \"type\": \"datetime\",\n",
    "            \"format\": \"%Y-%m-%d\"\n",
    "        }\n",
    "    }\n",
    "}"
   ]
  },
  {
   "cell_type": "markdown",
   "id": "932c8250",
   "metadata": {},
   "source": [
    "from sdmetrics.reports.single_table import QualityReport\n",
    "report = QualityReport()\n",
    "report.generate(real_data, new_data)\n"
   ]
  },
  {
   "cell_type": "markdown",
   "id": "578de5b6",
   "metadata": {},
   "source": [
    "model1 = GaussianCopula(\n",
    "    primary_key='ID'\n",
    ")\n",
    "model1.fit(real_data)"
   ]
  },
  {
   "cell_type": "code",
   "execution_count": null,
   "id": "4fa24e70",
   "metadata": {},
   "outputs": [],
   "source": [
    "distributions = model.get_distributions()\n",
    "distributions"
   ]
  },
  {
   "cell_type": "code",
   "execution_count": null,
   "id": "e7accd2e",
   "metadata": {},
   "outputs": [],
   "source": [
    "# use my_metadata_dict in the SDMetrics library\n",
    "import json \n",
    "\n",
    "with open('metadata.json') as f:\n",
    "    my_metadata_dict = json.load(f)\n"
   ]
  },
  {
   "cell_type": "code",
   "execution_count": null,
   "id": "c416e61d",
   "metadata": {},
   "outputs": [],
   "source": [
    "from sdmetrics.reports.single_table import QualityReport\n",
    "\n",
    "report = QualityReport()"
   ]
  },
  {
   "cell_type": "code",
   "execution_count": null,
   "id": "30f7b628",
   "metadata": {},
   "outputs": [],
   "source": [
    "report.generate(real_data, new_data, my_metadata_dict)"
   ]
  },
  {
   "cell_type": "code",
   "execution_count": null,
   "id": "11b58694",
   "metadata": {},
   "outputs": [],
   "source": [
    "report.get_details(property_name='Column Shapes')\n",
    "  "
   ]
  },
  {
   "cell_type": "code",
   "execution_count": null,
   "id": "2dda92e0",
   "metadata": {},
   "outputs": [],
   "source": [
    "fig = report.get_visualization(property_name='Column Shapes')\n",
    "fig.show()"
   ]
  },
  {
   "cell_type": "code",
   "execution_count": null,
   "id": "f38ec1f5",
   "metadata": {},
   "outputs": [],
   "source": [
    "fig1 = report.get_visualization(property_name='Column Pair Trends')\n",
    "fig1.show()"
   ]
  },
  {
   "cell_type": "code",
   "execution_count": null,
   "id": "1cda5e19",
   "metadata": {},
   "outputs": [],
   "source": [
    "from sdmetrics.column_pairs import CorrelationSimilarity\n",
    "\n",
    "CorrelationSimilarity.compute(\n",
    "    real_data=real_data[['PAY_AMT5', 'PAY_6']],\n",
    "    synthetic_data=new_data[['PAY_AMT5', 'PAY_6']],\n",
    "    coefficient='Pearson'\n",
    ")"
   ]
  },
  {
   "cell_type": "code",
   "execution_count": null,
   "id": "c5b85dc0",
   "metadata": {},
   "outputs": [],
   "source": [
    "from sdmetrics.reports import utils\n",
    "\n",
    "fig = utils.get_column_pair_plot(\n",
    "    real_data=real_data,\n",
    "    synthetic_data=new_data,\n",
    "    column_names=['PAY_AMT5', 'PAY_6'],\n",
    "    metadata=my_metadata_dict\n",
    "    \n",
    ")\n",
    "\n",
    "fig.show()"
   ]
  },
  {
   "cell_type": "code",
   "execution_count": null,
   "id": "5fc20151",
   "metadata": {},
   "outputs": [],
   "source": [
    "from sdv.evaluation.single_table import get_column_plot\n",
    "\n",
    "fig = get_column_plot(\n",
    "    real_data=real_data,\n",
    "    synthetic_data=new_data,\n",
    "    column_name='PAY_AMT2',\n",
    "    metadata=metadata\n",
    ")\n",
    "    \n",
    "fig.show()"
   ]
  },
  {
   "cell_type": "code",
   "execution_count": null,
   "id": "4ac1622b",
   "metadata": {},
   "outputs": [],
   "source": [
    "from sdmetrics.reports import utils\n",
    "\n",
    "fig = utils.get_column_pair_plot(\n",
    "    real_data=real_data,\n",
    "    synthetic_data=new_data,\n",
    "    column_names=['PAY_AMT2', 'PAY_6'],\n",
    "    metadata=my_metadata_dict\n",
    "    \n",
    ")\n",
    "\n",
    "fig.show()"
   ]
  },
  {
   "cell_type": "code",
   "execution_count": null,
   "id": "c27d0d53",
   "metadata": {},
   "outputs": [],
   "source": [
    "from sdmetrics.reports import utils\n",
    "\n",
    "fig = utils.get_column_plot(\n",
    "    real_data=real_data,\n",
    "    synthetic_data=new_data,\n",
    "    column_name='PAY_AMT2',\n",
    "    metadata=my_metadata_dict\n",
    ")\n",
    "\n",
    "fig.show()"
   ]
  },
  {
   "cell_type": "code",
   "execution_count": null,
   "id": "88381b64",
   "metadata": {},
   "outputs": [],
   "source": [
    "from sdmetrics.reports.single_table import DiagnosticReport\n",
    "\n",
    "report = DiagnosticReport()"
   ]
  },
  {
   "cell_type": "code",
   "execution_count": null,
   "id": "d6e4552c",
   "metadata": {},
   "outputs": [],
   "source": [
    "report.generate(real_data, new_data,my_metadata_dict)"
   ]
  },
  {
   "cell_type": "code",
   "execution_count": null,
   "id": "36eb9bd4",
   "metadata": {},
   "outputs": [],
   "source": [
    "report.get_properties()"
   ]
  },
  {
   "cell_type": "code",
   "execution_count": null,
   "id": "3e46ef97",
   "metadata": {},
   "outputs": [],
   "source": [
    "report.get_details(property_name='Coverage')"
   ]
  },
  {
   "cell_type": "code",
   "execution_count": null,
   "id": "073ef942",
   "metadata": {},
   "outputs": [],
   "source": [
    "fig = report.get_visualization(property_name='Coverage')\n",
    "fig.show()"
   ]
  },
  {
   "cell_type": "code",
   "execution_count": null,
   "id": "73eba7a5",
   "metadata": {},
   "outputs": [],
   "source": [
    "from sdmetrics.single_table import GMLogLikelihood\n",
    "\n",
    "GMLogLikelihood.compute(\n",
    "    real_data=real_data,\n",
    "    synthetic_data=new_data\n",
    ")"
   ]
  },
  {
   "cell_type": "code",
   "execution_count": null,
   "id": "f67a0931",
   "metadata": {},
   "outputs": [],
   "source": [
    "from sdmetrics.single_table import BinaryAdaBoostClassifier, BinaryDecisionTreeClassifier, BinaryLogisticRegression, BinaryMLPClassifier    \n",
    "\n",
    "\n",
    "\n",
    "BinaryLogisticRegression.compute(\n",
    "    test_data=real_data,\n",
    "    train_data=new_data,\n",
    "    target='default.payment.next.month',\n",
    "    metadata=my_metadata_dict\n",
    ")"
   ]
  },
  {
   "cell_type": "code",
   "execution_count": null,
   "id": "bf2f1ef7",
   "metadata": {},
   "outputs": [],
   "source": [
    "from sdmetrics.single_table.efficacy.mlefficacy import MLEfficacy\n",
    "MLEfficacy.compute(real_data,new_data,my_metadata_dict,target='default.payment.next.month')"
   ]
  },
  {
   "cell_type": "code",
   "execution_count": null,
   "id": "4690d8f7",
   "metadata": {},
   "outputs": [],
   "source": [
    "from sdmetrics.single_table import NumericalMLP\n",
    "\n",
    "NumericalMLP.compute(\n",
    "    real_data=real_data,\n",
    "    synthetic_data=new_data,\n",
    "    key_fields=['BILL_AMT1', 'PAY_AMT1','PAY_0'],\n",
    "    sensitive_fields=['LIMIT_BAL']\n",
    ")"
   ]
  },
  {
   "cell_type": "code",
   "execution_count": null,
   "id": "bac7192e",
   "metadata": {},
   "outputs": [],
   "source": [
    "from sdmetrics.single_table import CategoricalZeroCAP\n",
    "\n",
    "score = CategoricalZeroCAP.compute(\n",
    "    real_data=real_data,\n",
    "    synthetic_data=new_data,\n",
    "    key_fields=['PAY_0', 'SEX','MARRIAGE'],\n",
    "    sensitive_fields=['EDUCATION'])"
   ]
  },
  {
   "cell_type": "code",
   "execution_count": null,
   "id": "f081d02a",
   "metadata": {},
   "outputs": [],
   "source": [
    "score"
   ]
  },
  {
   "cell_type": "code",
   "execution_count": null,
   "id": "df6df3a8",
   "metadata": {},
   "outputs": [],
   "source": [
    "from sdmetrics.single_table import CategoricalCAP\n",
    "\n",
    "score = CategoricalCAP.compute(\n",
    "    real_data=real_data,\n",
    "    synthetic_data=new_data,\n",
    "    key_fields=['PAY_0', 'SEX','MARRIAGE'],\n",
    "    sensitive_fields=['EDUCATION'])"
   ]
  },
  {
   "cell_type": "code",
   "execution_count": null,
   "id": "a7436bf8",
   "metadata": {},
   "outputs": [],
   "source": [
    "score\n"
   ]
  }
 ],
 "metadata": {
  "kernelspec": {
   "display_name": "Python 3 (ipykernel)",
   "language": "python",
   "name": "python3"
  },
  "language_info": {
   "codemirror_mode": {
    "name": "ipython",
    "version": 3
   },
   "file_extension": ".py",
   "mimetype": "text/x-python",
   "name": "python",
   "nbconvert_exporter": "python",
   "pygments_lexer": "ipython3",
   "version": "3.10.6"
  }
 },
 "nbformat": 4,
 "nbformat_minor": 5
}
